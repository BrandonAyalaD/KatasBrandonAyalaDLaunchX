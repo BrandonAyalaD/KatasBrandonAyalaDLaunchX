{
 "cells": [
  {
   "cell_type": "markdown",
   "metadata": {},
   "source": [
    "E1: Un asteroide se acerca, y viaja a una velocidad de 49 km/s."
   ]
  },
  {
   "cell_type": "code",
   "execution_count": 19,
   "metadata": {},
   "outputs": [
    {
     "name": "stdout",
     "output_type": "stream",
     "text": [
      "¡ADVERTENCIA!: ¡Se aproxima un asteoride!\n"
     ]
    }
   ],
   "source": [
    "asteroide= 49\n",
    "if asteroide >25:\n",
    "    print (\"¡ADVERTENCIA!: ¡Se aproxima un asteoride!\")\n",
    "else:\n",
    "    print (\"SIN NOVEDAD\")"
   ]
  },
  {
   "cell_type": "markdown",
   "metadata": {},
   "source": [
    "E2: Un asteroide entra en la atmósfera"
   ]
  },
  {
   "cell_type": "code",
   "execution_count": 24,
   "metadata": {},
   "outputs": [
    {
     "name": "stdout",
     "output_type": "stream",
     "text": [
      "SIN NOVEDAD\n"
     ]
    }
   ],
   "source": [
    "asteroide= 19 \n",
    "if asteroide >20:\n",
    "    print (\"¡MIRE ARRIBA!: Busque el rayo de luz del asteroide en el cielo.\")\n",
    "elif asteroide ==20:\n",
    "    print (\"¡MIRE ARRIBA!: Busque el rayo de luz del asteroide en el cielo.\")\n",
    "else:\n",
    "    print (\"SIN NOVEDAD\")"
   ]
  },
  {
   "cell_type": "markdown",
   "metadata": {},
   "source": [
    "E3: Operadores AND y OR"
   ]
  },
  {
   "cell_type": "code",
   "execution_count": 43,
   "metadata": {},
   "outputs": [
    {
     "name": "stdout",
     "output_type": "stream",
     "text": [
      "¡MIRE ARRIBA!: Busque el rayo de luz del asteoride en el cielo.\n"
     ]
    }
   ],
   "source": [
    "Velocidad_asteroide=25\n",
    "Tamaño_asteroide=50\n",
    "if Velocidad_asteroide >25 and Tamaño_asteroide >25:\n",
    "    print (\"¡ADVERTENCIA!: ¡Se aproxima un asteroide peligroso!\")\n",
    "elif Velocidad_asteroide >= 20:\n",
    "    print (\"¡MIRE ARRIBA!: Busque el rayo de luz del asteoride en el cielo.\")\n",
    "elif Tamaño_asteroide <25:\n",
    "    print (\"SIN NOVEDAD\")\n",
    "else:\n",
    "    print (\"SIN NOVEDAD\")"
   ]
  }
 ],
 "metadata": {
  "interpreter": {
   "hash": "c33184972b48748d94ddd34e441bc25e543b9b1491b698e37ff4356c126c0090"
  },
  "kernelspec": {
   "display_name": "Python 3.10.2 64-bit",
   "language": "python",
   "name": "python3"
  },
  "language_info": {
   "codemirror_mode": {
    "name": "ipython",
    "version": 3
   },
   "file_extension": ".py",
   "mimetype": "text/x-python",
   "name": "python",
   "nbconvert_exporter": "python",
   "pygments_lexer": "ipython3",
   "version": "3.10.2"
  },
  "orig_nbformat": 4
 },
 "nbformat": 4,
 "nbformat_minor": 2
}
